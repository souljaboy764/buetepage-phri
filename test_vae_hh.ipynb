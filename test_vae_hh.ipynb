{
 "cells": [
  {
   "attachments": {},
   "cell_type": "markdown",
   "metadata": {},
   "source": [
    "# Testing Human VAE"
   ]
  },
  {
   "cell_type": "code",
   "execution_count": null,
   "metadata": {},
   "outputs": [],
   "source": [
    "import torch\n",
    "import numpy as np\n",
    "import os\n",
    "\n",
    "import networks\n",
    "\n",
    "torch.autograd.set_detect_anomaly(True)\n",
    "device = torch.device(\"cuda\" if torch.cuda.is_available() else \"cpu\")"
   ]
  },
  {
   "cell_type": "code",
   "execution_count": null,
   "metadata": {},
   "outputs": [],
   "source": [
    "ckpt = input()\n",
    "\n",
    "dirname = os.path.dirname(ckpt)\n",
    "hyperparams = np.load(os.path.join(dirname,'hyperparams.npz'), allow_pickle=True)\n",
    "training_args = hyperparams['args'].item()\n",
    "ckpt = torch.load(ckpt)\n",
    "\n",
    "model = getattr(networks, training_args.model)(**(hyperparams['vae_config'].item().__dict__)).to(device)\n",
    "model.load_state_dict(ckpt['model'])\n",
    "model.eval()\n",
    "\n",
    "with np.load(training_args.src, allow_pickle=True) as data:\n",
    "\ttest_data = torch.Tensor(np.array(data['test_data']).astype(np.float32)).to(device)\n",
    "\tN = test_data.shape[0]\n",
    "\ttest_data = torch.concat([test_data[..., :model.input_dim], test_data[..., model.input_dim:]])\n",
    "\tdata_shape = (N*2, model.window_size, model.num_joints, model.joint_dims)"
   ]
  },
  {
   "cell_type": "code",
   "execution_count": null,
   "metadata": {},
   "outputs": [],
   "source": [
    "\n",
    "x_gen, _, _ = model(test_data)\n",
    "x_gen = x_gen.reshape(data_shape)\n",
    "test_data = test_data.reshape(data_shape)\n",
    "\n",
    "error = (test_data - x_gen)**2\n",
    "print(\"Prediction MSE {:.4e}\".format(error.flatten(0,2).sum(-1).mean().cpu().detach().numpy()))\n",
    "\n",
    "x_gen = x_gen.cpu().detach().numpy()\n",
    "test_data = test_data.cpu().detach().numpy()"
   ]
  },
  {
   "cell_type": "code",
   "execution_count": null,
   "metadata": {},
   "outputs": [],
   "source": [
    "%matplotlib widget\n",
    "import matplotlib.pyplot as plt\n",
    "from utils import *\n",
    "import asyncio\n",
    "\n",
    "fig, ax = prepare_axis()\n",
    "async def update():\n",
    "    global ax\n",
    "    for frame_idx in range(1000):\n",
    "        ax = reset_axis(ax)\n",
    "        ax = visualize_skeleton(ax, test_data[frame_idx], markerfacecolor='r', linestyle='-', alpha=0.5)\n",
    "        ax = visualize_skeleton(ax, x_gen[frame_idx], markerfacecolor='m', linestyle='--', alpha=0.2)\n",
    "\n",
    "        test_data[N+frame_idx, ..., 0] = 0.7 - test_data[N+frame_idx, ..., 0]\n",
    "        test_data[N+frame_idx, ..., 1] = 0.2 - test_data[N+frame_idx, ..., 1]\n",
    "        x_gen[N+frame_idx, ..., 0] = 0.7 - x_gen[N+frame_idx, ..., 0]\n",
    "        x_gen[N+frame_idx, ..., 1] = 0.2 - x_gen[N+frame_idx, ..., 1]\n",
    "\n",
    "        ax = visualize_skeleton(ax, test_data[N+frame_idx], markerfacecolor='b', linestyle='-', alpha=0.5)\n",
    "        ax = visualize_skeleton(ax, x_gen[N+frame_idx], markerfacecolor='g', linestyle='--', alpha=0.2)\n",
    "        \n",
    "        fig.canvas.draw_idle()\n",
    "        fig.canvas.flush_events()\n",
    "        await asyncio.sleep(0.001)\n",
    "loop = asyncio.get_event_loop()\n",
    "loop.create_task(update());\n"
   ]
  }
 ],
 "metadata": {
  "kernelspec": {
   "display_name": "Python 3",
   "language": "python",
   "name": "python3"
  },
  "language_info": {
   "codemirror_mode": {
    "name": "ipython",
    "version": 3
   },
   "file_extension": ".py",
   "mimetype": "text/x-python",
   "name": "python",
   "nbconvert_exporter": "python",
   "pygments_lexer": "ipython3",
   "version": "3.8.10"
  },
  "toc-autonumbering": true,
  "vscode": {
   "interpreter": {
    "hash": "767d51c1340bd893661ea55ea3124f6de3c7a262a8b4abca0554b478b1e2ff90"
   }
  }
 },
 "nbformat": 4,
 "nbformat_minor": 4
}
